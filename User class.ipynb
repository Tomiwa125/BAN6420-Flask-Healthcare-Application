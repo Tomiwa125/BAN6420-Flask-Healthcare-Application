{
 "cells": [
  {
   "cell_type": "code",
   "id": "initial_id",
   "metadata": {
    "collapsed": true,
    "ExecuteTime": {
     "end_time": "2024-10-01T06:01:51.324303Z",
     "start_time": "2024-10-01T06:01:51.304487Z"
    }
   },
   "source": [
    "import pandas as pd\n",
    "import matplotlib.pyplot as plt\n",
    "\n",
    "class User:\n",
    "    def __init__(self, age, gender, total_income, expenses):\n",
    "        self.age = age\n",
    "        self.gender = gender\n",
    "        self.total_income = total_income\n",
    "        self.expenses = expenses\n",
    "\n",
    "    def to_dict(self):\n",
    "        return {\n",
    "            \"age\": self.age,\n",
    "            \"gender\": self.gender,\n",
    "            \"total_income\": self.total_income,\n",
    "            \"expenses\": self.expenses\n",
    "        }\n",
    "\n",
    "# Loop through collected data and save to CSV\n",
    "users_data = mongo.db.users.find()\n",
    "users_list = [User(data['age'], data['gender'], data['total_income'], data['expenses']).to_dict() for data in users_data]\n",
    "\n",
    "df = pd.DataFrame(users_list)\n",
    "df.to_csv('user_data.csv', index=False)\n",
    "df = pd.read_csv('user_data.csv')\n",
    "\n",
    "plt.figure(figsize=(10, 6))\n",
    "plt.scatter(df['age'], df['total_income'])\n",
    "plt.title('Age vs Total Income')\n",
    "plt.xlabel('Age')\n",
    "plt.ylabel('Total Income')\n",
    "plt.savefig('age_vs_income.png')  # Save for PowerPoint\n",
    "\n",
    "gender_expenses = df.groupby('gender')['expenses'].apply(lambda x: x.sum()).reset_index()\n",
    "gender_expenses.plot(kind='bar', x='gender', y='expenses')\n",
    "plt.title('Gender Distribution of Expenses')\n",
    "plt.savefig('gender_expenses.png')  # Save for PowerPoint"
   ],
   "outputs": [
    {
     "ename": "NameError",
     "evalue": "name 'mongo' is not defined",
     "output_type": "error",
     "traceback": [
      "\u001B[1;31m---------------------------------------------------------------------------\u001B[0m",
      "\u001B[1;31mNameError\u001B[0m                                 Traceback (most recent call last)",
      "Cell \u001B[1;32mIn[9], line 20\u001B[0m\n\u001B[0;32m     12\u001B[0m         \u001B[38;5;28;01mreturn\u001B[39;00m {\n\u001B[0;32m     13\u001B[0m             \u001B[38;5;124m\"\u001B[39m\u001B[38;5;124mage\u001B[39m\u001B[38;5;124m\"\u001B[39m: \u001B[38;5;28mself\u001B[39m\u001B[38;5;241m.\u001B[39mage,\n\u001B[0;32m     14\u001B[0m             \u001B[38;5;124m\"\u001B[39m\u001B[38;5;124mgender\u001B[39m\u001B[38;5;124m\"\u001B[39m: \u001B[38;5;28mself\u001B[39m\u001B[38;5;241m.\u001B[39mgender,\n\u001B[0;32m     15\u001B[0m             \u001B[38;5;124m\"\u001B[39m\u001B[38;5;124mtotal_income\u001B[39m\u001B[38;5;124m\"\u001B[39m: \u001B[38;5;28mself\u001B[39m\u001B[38;5;241m.\u001B[39mtotal_income,\n\u001B[0;32m     16\u001B[0m             \u001B[38;5;124m\"\u001B[39m\u001B[38;5;124mexpenses\u001B[39m\u001B[38;5;124m\"\u001B[39m: \u001B[38;5;28mself\u001B[39m\u001B[38;5;241m.\u001B[39mexpenses\n\u001B[0;32m     17\u001B[0m         }\n\u001B[0;32m     19\u001B[0m \u001B[38;5;66;03m# Loop through collected data and save to CSV\u001B[39;00m\n\u001B[1;32m---> 20\u001B[0m users_data \u001B[38;5;241m=\u001B[39m mongo\u001B[38;5;241m.\u001B[39mdb\u001B[38;5;241m.\u001B[39musers\u001B[38;5;241m.\u001B[39mfind()\n\u001B[0;32m     21\u001B[0m users_list \u001B[38;5;241m=\u001B[39m [User(data[\u001B[38;5;124m'\u001B[39m\u001B[38;5;124mage\u001B[39m\u001B[38;5;124m'\u001B[39m], data[\u001B[38;5;124m'\u001B[39m\u001B[38;5;124mgender\u001B[39m\u001B[38;5;124m'\u001B[39m], data[\u001B[38;5;124m'\u001B[39m\u001B[38;5;124mtotal_income\u001B[39m\u001B[38;5;124m'\u001B[39m], data[\u001B[38;5;124m'\u001B[39m\u001B[38;5;124mexpenses\u001B[39m\u001B[38;5;124m'\u001B[39m])\u001B[38;5;241m.\u001B[39mto_dict() \u001B[38;5;28;01mfor\u001B[39;00m data \u001B[38;5;129;01min\u001B[39;00m users_data]\n\u001B[0;32m     23\u001B[0m df \u001B[38;5;241m=\u001B[39m pd\u001B[38;5;241m.\u001B[39mDataFrame(users_list)\n",
      "\u001B[1;31mNameError\u001B[0m: name 'mongo' is not defined"
     ]
    }
   ],
   "execution_count": 9
  }
 ],
 "metadata": {
  "kernelspec": {
   "display_name": "Python 3",
   "language": "python",
   "name": "python3"
  },
  "language_info": {
   "codemirror_mode": {
    "name": "ipython",
    "version": 2
   },
   "file_extension": ".py",
   "mimetype": "text/x-python",
   "name": "python",
   "nbconvert_exporter": "python",
   "pygments_lexer": "ipython2",
   "version": "2.7.6"
  }
 },
 "nbformat": 4,
 "nbformat_minor": 5
}
